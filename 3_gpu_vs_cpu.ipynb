{
  "nbformat": 4,
  "nbformat_minor": 0,
  "metadata": {
    "colab": {
      "provenance": [],
      "gpuType": "T4",
      "authorship_tag": "ABX9TyMqfJrrDk9oMKHXODaNvujy",
      "include_colab_link": true
    },
    "kernelspec": {
      "name": "python3",
      "display_name": "Python 3"
    },
    "language_info": {
      "name": "python"
    },
    "accelerator": "GPU"
  },
  "cells": [
    {
      "cell_type": "markdown",
      "metadata": {
        "id": "view-in-github",
        "colab_type": "text"
      },
      "source": [
        "<a href=\"https://colab.research.google.com/github/saas-for-dgv/AI/blob/main/3_gpu_vs_cpu.ipynb\" target=\"_parent\"><img src=\"https://colab.research.google.com/assets/colab-badge.svg\" alt=\"Open In Colab\"/></a>"
      ]
    },
    {
      "cell_type": "code",
      "execution_count": 1,
      "metadata": {
        "id": "Tj-U7x5mSJIG"
      },
      "outputs": [],
      "source": [
        "import torch\n",
        "import numpy as np\n",
        "import time\n",
        "\n",
        "device = 'cuda' if torch.cuda.is_available() else 'cpu'"
      ]
    },
    {
      "cell_type": "code",
      "source": [
        "start_time = time.time()\n",
        "zeroes = torch.zeros(1,1)\n",
        "end_time = time.time()\n",
        "elapsed_time = end_time - start_time\n",
        "print(f'{elapsed_time:.10f}')"
      ],
      "metadata": {
        "colab": {
          "base_uri": "https://localhost:8080/"
        },
        "id": "kKCqSDahTvlb",
        "outputId": "977afc82-8c0b-423a-e5e8-ca205c8c6bf6"
      },
      "execution_count": 2,
      "outputs": [
        {
          "output_type": "stream",
          "name": "stdout",
          "text": [
            "0.0280373096\n"
          ]
        }
      ]
    },
    {
      "cell_type": "code",
      "source": [
        "rand1 = torch.rand(57,57,57,57,57).to(device)\n",
        "rand2 = torch.rand(57,57,57,57,57).to(device)\n",
        "start_time = time.time()\n",
        "rand = (rand1 @ rand2)\n",
        "end_time = time.time()\n",
        "elapsed_time = end_time - start_time\n",
        "print(f\"for gpu elapsed time is {elapsed_time:.8f}\")\n",
        "\n",
        "start_time = time.time()\n",
        "rand = np.multiply(rand1,rand2)\n",
        "end_time = time.time()\n",
        "elapsed_time = end_time - start_time\n",
        "print(f\"for cpu elapsed time is {elapsed_time:.8f}\")"
      ],
      "metadata": {
        "colab": {
          "base_uri": "https://localhost:8080/"
        },
        "id": "ICOUMLJ4VKKF",
        "outputId": "bc59c07b-5c2e-46d8-adb2-694f93bf7e39"
      },
      "execution_count": 3,
      "outputs": [
        {
          "output_type": "stream",
          "name": "stdout",
          "text": [
            "for gpu elapsed time is 3.52330065\n",
            "for cpu elapsed time is 0.94358516\n"
          ]
        }
      ]
    }
  ]
}