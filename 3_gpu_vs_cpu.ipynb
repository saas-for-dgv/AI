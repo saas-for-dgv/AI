{
  "nbformat": 4,
  "nbformat_minor": 0,
  "metadata": {
    "colab": {
      "provenance": [],
      "gpuType": "T4",
      "authorship_tag": "ABX9TyOmFQRfz4jaWmY/wcSDmnjA",
      "include_colab_link": true
    },
    "kernelspec": {
      "name": "python3",
      "display_name": "Python 3"
    },
    "language_info": {
      "name": "python"
    },
    "accelerator": "GPU"
  },
  "cells": [
    {
      "cell_type": "markdown",
      "metadata": {
        "id": "view-in-github",
        "colab_type": "text"
      },
      "source": [
        "<a href=\"https://colab.research.google.com/github/saas-for-dgv/AI/blob/main/3_gpu_vs_cpu.ipynb\" target=\"_parent\"><img src=\"https://colab.research.google.com/assets/colab-badge.svg\" alt=\"Open In Colab\"/></a>"
      ]
    },
    {
      "cell_type": "code",
      "execution_count": 10,
      "metadata": {
        "id": "Tj-U7x5mSJIG"
      },
      "outputs": [],
      "source": [
        "import torch\n",
        "import tensorflow as tf\n",
        "import numpy as np\n",
        "import time\n",
        "import gc\n",
        "import os\n",
        "\n",
        "os.environ['PYTORCH_MPS_HIGH_WATERMARK_RATIO'] = '0.0'\n",
        "# prompt: detect gpu device for different os using torch. dont use nested if else. write a better code\n",
        "\n",
        "device = 'mps' if torch.backends.mps.is_available() else ('cuda' if torch.cuda.is_available() else 'cpu')\n",
        "device"
      ]
    },
    {
      "cell_type": "code",
      "source": [
        "start_time = time.time()\n",
        "zeroes = torch.zeros(1,1)\n",
        "end_time = time.time()\n",
        "elapsed_time = end_time - start_time\n",
        "print(f'{elapsed_time:.10f}')"
      ],
      "metadata": {
        "colab": {
          "base_uri": "https://localhost:8080/"
        },
        "id": "kKCqSDahTvlb",
        "outputId": "f0ac9367-0034-4285-85be-e00239207a2c"
      },
      "execution_count": 11,
      "outputs": [
        {
          "output_type": "stream",
          "name": "stdout",
          "text": [
            "0.0012803078\n"
          ]
        }
      ]
    },
    {
      "cell_type": "code",
      "source": [
        "# Check if GPU is available\n",
        "#print(\"Num GPUs Available: \", len(tf.config.experimental.list_physical_devices('GPU')))\n",
        "import os\n",
        "import gc\n",
        "\n",
        "gc.collect()\n",
        "torch.cuda.empty_cache()\n",
        "\n",
        "# Reduce the size of the tensors\n",
        "rand1 = torch.rand(100,100,100,100).to(device)\n",
        "rand2 = torch.rand(100,100,100,100).to(device)\n",
        "# Move tensors to CPU for NumPy operations\n",
        "rand1_cpu = torch.rand(100,100,100,100)\n",
        "rand2_cpu = torch.rand(100,100,100,100)\n",
        "\n",
        "# Timing GPU operations\n",
        "start_time = time.time()\n",
        "result_gpu = (rand1 @ rand2)\n",
        "end_time = time.time()\n",
        "elapsed_time = end_time - start_time\n",
        "print(f\"Elapsed time for GPU operation: {elapsed_time:.8f} seconds\")\n",
        "\n",
        "# Clear GPU memory\n",
        "del rand1, rand2, result_gpu\n",
        "gc.collect()\n",
        "torch.cuda.empty_cache()\n",
        "\n",
        "# Timing CPU operations\n",
        "start_time = time.time()\n",
        "result_cpu = np.multiply(rand1_cpu.numpy(), rand2_cpu.numpy())\n",
        "end_time = time.time()\n",
        "elapsed_time = end_time - start_time\n",
        "print(f\"Elapsed time for CPU operation: {elapsed_time:.8f} seconds\")\n",
        "\n",
        "# Clear CPU memory\n",
        "del rand1_cpu, rand2_cpu, result_cpu\n",
        "gc.collect()\n",
        "torch.cuda.empty_cache()"
      ],
      "metadata": {
        "colab": {
          "base_uri": "https://localhost:8080/"
        },
        "id": "ICOUMLJ4VKKF",
        "outputId": "25682378-0620-4414-bba1-ec684ac9469d"
      },
      "execution_count": 12,
      "outputs": [
        {
          "output_type": "stream",
          "name": "stdout",
          "text": [
            "Elapsed time for GPU operation: 0.99813104 seconds\n",
            "Elapsed time for CPU operation: 0.27920341 seconds\n"
          ]
        }
      ]
    }
  ]
}