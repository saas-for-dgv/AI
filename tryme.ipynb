{
  "nbformat": 4,
  "nbformat_minor": 0,
  "metadata": {
    "colab": {
      "provenance": [],
      "gpuType": "T4",
      "authorship_tag": "ABX9TyO1Dl7z0B4zJixW+upDWFhO",
      "include_colab_link": true
    },
    "kernelspec": {
      "name": "python3",
      "display_name": "Python 3"
    },
    "language_info": {
      "name": "python"
    },
    "accelerator": "GPU"
  },
  "cells": [
    {
      "cell_type": "markdown",
      "metadata": {
        "id": "view-in-github",
        "colab_type": "text"
      },
      "source": [
        "<a href=\"https://colab.research.google.com/github/saas-for-dgv/AI/blob/main/tryme.ipynb\" target=\"_parent\"><img src=\"https://colab.research.google.com/assets/colab-badge.svg\" alt=\"Open In Colab\"/></a>"
      ]
    },
    {
      "cell_type": "code",
      "source": [
        "# Use this to enable word-wrap in outputs\n",
        "from IPython.display import HTML, display\n",
        "\n",
        "def set_css():\n",
        "  display(HTML('''\n",
        "  <style>\n",
        "    pre { white-space: pre-wrap; }\n",
        "  </style>\n",
        "  '''))\n",
        "\n",
        "get_ipython().events.register('pre_run_cell', set_css)\n"
      ],
      "metadata": {
        "id": "sNn322YiKHPN"
      },
      "execution_count": null,
      "outputs": []
    },
    {
      "cell_type": "code",
      "execution_count": null,
      "metadata": {
        "id": "8La1mADU74wM"
      },
      "outputs": [],
      "source": [
        "# check for gpu/cpu\n",
        "import torch\n",
        "device = 'gpu' if torch.cuda.is_available() else 'cpu'\n",
        "print(device)\n"
      ]
    },
    {
      "cell_type": "code",
      "source": [
        "# prompt: clone from my github repo where I am saving this notebook\n",
        "\n",
        "!git clone https://github.com/saas-for-dgv/AI.git\n"
      ],
      "metadata": {
        "id": "NG2osphF-ZHz"
      },
      "execution_count": null,
      "outputs": []
    },
    {
      "cell_type": "code",
      "source": [
        "# prompt: write a python code to read wizard_of_oz.txt from AI folder and print the first 20 chars of those files\n",
        "\n",
        "with open('AI/wizard_of_oz.txt', 'r') as f:\n",
        "    text = f.read()\n",
        "chars = sorted(set(text))\n",
        "print(chars)\n",
        "print(\"vocab size =\",len(chars))\n"
      ],
      "metadata": {
        "id": "hfGSBVS9H_h5"
      },
      "execution_count": null,
      "outputs": []
    }
  ]
}