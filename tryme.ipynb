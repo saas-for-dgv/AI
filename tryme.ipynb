{
  "nbformat": 4,
  "nbformat_minor": 0,
  "metadata": {
    "colab": {
      "provenance": [],
      "gpuType": "T4",
      "authorship_tag": "ABX9TyM6Ry+nn08c1BkddwkYpMLa",
      "include_colab_link": true
    },
    "kernelspec": {
      "name": "python3",
      "display_name": "Python 3"
    },
    "language_info": {
      "name": "python"
    },
    "accelerator": "GPU"
  },
  "cells": [
    {
      "cell_type": "markdown",
      "metadata": {
        "id": "view-in-github",
        "colab_type": "text"
      },
      "source": [
        "<a href=\"https://colab.research.google.com/github/saas-for-dgv/AI/blob/main/tryme.ipynb\" target=\"_parent\"><img src=\"https://colab.research.google.com/assets/colab-badge.svg\" alt=\"Open In Colab\"/></a>"
      ]
    },
    {
      "cell_type": "code",
      "execution_count": 1,
      "metadata": {
        "id": "8La1mADU74wM",
        "colab": {
          "base_uri": "https://localhost:8080/"
        },
        "outputId": "5eeb6030-fbbb-481f-d7ad-42fdf88d1fd9"
      },
      "outputs": [
        {
          "output_type": "stream",
          "name": "stdout",
          "text": [
            "gpu\n"
          ]
        }
      ],
      "source": [
        "import torch\n",
        "device = 'gpu' if torch.cuda.is_available() else 'cpu'\n",
        "print(device)\n"
      ]
    },
    {
      "cell_type": "code",
      "source": [
        "# prompt: clone from my github repo where I am saving this notebook\n",
        "\n",
        "!git clone https://github.com/saas-for-dgv/AI.git\n",
        "%cd my_repo\n"
      ],
      "metadata": {
        "id": "NG2osphF-ZHz",
        "outputId": "2761db03-af96-4917-8a8c-e25f560e6397",
        "colab": {
          "base_uri": "https://localhost:8080/"
        }
      },
      "execution_count": 1,
      "outputs": [
        {
          "output_type": "stream",
          "name": "stdout",
          "text": [
            "Cloning into 'AI'...\n",
            "remote: Enumerating objects: 19, done.\u001b[K\n",
            "remote: Counting objects: 100% (19/19), done.\u001b[K\n",
            "remote: Compressing objects: 100% (16/16), done.\u001b[K\n",
            "remote: Total 19 (delta 3), reused 0 (delta 0), pack-reused 0\u001b[K\n",
            "Receiving objects: 100% (19/19), 90.35 KiB | 1.81 MiB/s, done.\n",
            "Resolving deltas: 100% (3/3), done.\n",
            "[Errno 2] No such file or directory: 'my_repo'\n",
            "/content\n"
          ]
        }
      ]
    },
    {
      "cell_type": "code",
      "source": [
        "# prompt: write a python code to read wizard_of_oz.txt from AI folder and print the first 20 chars of those files\n",
        "\n",
        "with open('AI/wizard_of_oz.txt', 'r') as f:\n",
        "    text = f.read()\n",
        "    print(text[:20])\n"
      ],
      "metadata": {
        "id": "hfGSBVS9H_h5",
        "outputId": "d118fbd2-329f-4172-c963-c21789e8e469",
        "colab": {
          "base_uri": "https://localhost:8080/"
        }
      },
      "execution_count": 3,
      "outputs": [
        {
          "output_type": "stream",
          "name": "stdout",
          "text": [
            "  DOROTHY AND THE WI\n"
          ]
        }
      ]
    }
  ]
}